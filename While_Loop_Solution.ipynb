{
 "cells": [
  {
   "cell_type": "markdown",
   "metadata": {},
   "source": [
    "<h1>Exploring While-Loops with Turtle Graphics</h1>\n",
    "<p>Welcome to a journey through the concept of while-loops. We will use Python's Turtle graphics throughout this guide. This guide is designed to help you understand the basics of while-loops and see them in action.</p>\n"
   ]
  },
  {
   "cell_type": "markdown",
   "metadata": {},
   "source": [
    "<h2>Using Turtle Graphics</h2>\n",
    "<p><em>here are some useful functions from the turtle library</em></p>\n",
    "<code>turtle.Turtle()</code>: Creates your turtle <br>\n",
    "<code>turtle_name.forward(x)</code>: Moves your x blocks forward in the direction its facing <br>\n",
    "<code>turtle_name.left(theta)</code>: Moves your theta degrees left from the direction its facing<br>\n",
    "<code>turtle_name.right(theta)</code>: Moves your theta degrees right from the direction its facing<br>\n"
   ]
  },
  {
   "cell_type": "code",
   "execution_count": 1,
   "metadata": {},
   "outputs": [],
   "source": [
    "import turtle\n",
    "# Setup the screen\n",
    "screen = turtle.Screen()\n",
    "\n",
    "bob_ross = turtle.Turtle() # create a variable named 'bob_ross' and set it to be a new turtle\n",
    "bob_ross.forward(100) # move him forward 100 steps\n",
    "bob_ross.right(90) # turn him 90 degrees to the right\n",
    "bob_ross.forward(100)  # move him forward another 100 steps\n",
    "\n",
    "turtle.done()\n"
   ]
  },
  {
   "cell_type": "markdown",
   "metadata": {},
   "source": [
    "<h2>Understanding While-Loops</h2>\n",
    "<p>A <em>while-loop</em> repeats a block of code as long as a specified condition is <code>True</code>.\n"
   ]
  },
  {
   "cell_type": "markdown",
   "metadata": {},
   "source": [
    "<h2>The Structure of a While-Loop</h2>\n",
    "<p>The basic syntax of a while-loop in Python is:</p>\n",
    "<pre>\n",
    "<code>while condition:\n",
    "    # Execute this block of code</code>\n",
    "</pre>\n",
    "<p>Where <code>condition</code> is an expression that is evaluated before each loop iteration. If the condition evaluates to <code>True</code>, the code block inside the loop is executed.</p>\n"
   ]
  },
  {
   "cell_type": "markdown",
   "metadata": {},
   "source": [
    "<h2>Drawing a Square</h2>\n",
    "<p>Now lets do it elegently using a while-loop </p>\n"
   ]
  },
  {
   "cell_type": "code",
   "execution_count": 1,
   "metadata": {},
   "outputs": [],
   "source": [
    "import turtle\n",
    "# Setup the screen\n",
    "screen = turtle.Screen()\n",
    "\n",
    "# Recall the structure of loops \n",
    "        #while condition:\n",
    "            #Execute this block of code\n",
    "\n",
    "bob_ross = turtle.Turtle() # create a variable named 'bob_ross' and set it to be a new turtle\n",
    "\n",
    "sides = 0 # start side count at 0 \n",
    "\n",
    "while sides < 4: # while there is less than 4 sides drawn \n",
    "    bob_ross.forward(100) # move him forward 100 steps\n",
    "    bob_ross.right(90) # turn him 90 degrees to the right\n",
    "    # the above two steps are drawing a side \n",
    "    sides += 1 # increase side count to ensure loop finishes \n",
    "turtle.done()"
   ]
  },
  {
   "cell_type": "markdown",
   "metadata": {},
   "source": [
    "<h2>Conclusion</h2>\n",
    "<p>Congratulations on completing this exploration of while-loops using Turtle graphics! Try to fill out the missing pieces of code to deepen your understanding of while-loops and and turtle graphics.</p>\n",
    "\n",
    "\n"
   ]
  },
  {
   "cell_type": "markdown",
   "metadata": {},
   "source": [
    "<h2>Challenge</h2>\n",
    "<p>As a challenge, try and create this image using turtle graphics and loops</p>\n",
    "\n",
    "![4 squares placed next to eachother forming 1 larger square](https://i.pinimg.com/736x/46/d3/a0/46d3a05f6a2d4c0bfecc22a14eef4266.jpg)\n",
    "\n",
    "<p><em>Hint: try nesting the loops.</em></p>\n"
   ]
  },
  {
   "cell_type": "code",
   "execution_count": 1,
   "metadata": {},
   "outputs": [],
   "source": [
    "import turtle\n",
    "screen = turtle.Screen()\n",
    "\n",
    "bob_ross= turtle.Turtle()\n",
    "\n",
    "size = 100 # set a size for the outside square\n",
    "outer_sides = 0 # keep track of sides in larger square \n",
    "while outer_sides < 4: # draw the larger square in this loop \n",
    "    inner_sides = 0\n",
    "    while inner_sides < 4: # on each side of the larger square, draw a smaller square \n",
    "        bob_ross.forward(size/2)\n",
    "        bob_ross.right(90)\n",
    "        inner_sides += 1    \n",
    "    bob_ross.forward(size)\n",
    "    bob_ross.right(90)\n",
    "    outer_sides += 1\n",
    "        \n",
    "turtle.done()\n"
   ]
  }
 ],
 "metadata": {
  "kernelspec": {
   "display_name": "Python 3",
   "language": "python",
   "name": "python3"
  },
  "language_info": {
   "codemirror_mode": {
    "name": "ipython",
    "version": 3
   },
   "file_extension": ".py",
   "mimetype": "text/x-python",
   "name": "python",
   "nbconvert_exporter": "python",
   "pygments_lexer": "ipython3",
   "version": "3.12.1"
  }
 },
 "nbformat": 4,
 "nbformat_minor": 2
}
